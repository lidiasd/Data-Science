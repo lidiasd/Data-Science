{
  "nbformat": 4,
  "nbformat_minor": 0,
  "metadata": {
    "colab": {
      "provenance": []
    },
    "kernelspec": {
      "name": "python3",
      "display_name": "Python 3"
    },
    "language_info": {
      "name": "python"
    }
  },
  "cells": [
    {
      "cell_type": "code",
      "execution_count": 1,
      "metadata": {
        "colab": {
          "base_uri": "https://localhost:8080/"
        },
        "id": "PNIxme7EqgOP",
        "outputId": "f37ff66c-8990-4a38-9dc0-ff2e70e9f224"
      },
      "outputs": [
        {
          "output_type": "stream",
          "name": "stdout",
          "text": [
            "Looking in indexes: https://pypi.org/simple, https://us-python.pkg.dev/colab-wheels/public/simple/\n",
            "Collecting sktime\n",
            "  Downloading sktime-0.17.1-py3-none-any.whl (16.1 MB)\n",
            "\u001b[2K     \u001b[90m━━━━━━━━━━━━━━━━━━━━━━━━━━━━━━━━━━━━━━━━\u001b[0m \u001b[32m16.1/16.1 MB\u001b[0m \u001b[31m12.6 MB/s\u001b[0m eta \u001b[36m0:00:00\u001b[0m\n",
            "\u001b[?25hCollecting deprecated>=1.2.13\n",
            "  Downloading Deprecated-1.2.13-py2.py3-none-any.whl (9.6 kB)\n",
            "Requirement already satisfied: numpy<1.25,>=1.21.0 in /usr/local/lib/python3.9/dist-packages (from sktime) (1.22.4)\n",
            "Requirement already satisfied: pandas<2.0.0,>=1.1.0 in /usr/local/lib/python3.9/dist-packages (from sktime) (1.5.3)\n",
            "Requirement already satisfied: numba>=0.53 in /usr/local/lib/python3.9/dist-packages (from sktime) (0.56.4)\n",
            "Requirement already satisfied: scikit-learn<1.3.0,>=0.24.0 in /usr/local/lib/python3.9/dist-packages (from sktime) (1.2.2)\n",
            "Requirement already satisfied: scipy<2.0.0,>=1.2.0 in /usr/local/lib/python3.9/dist-packages (from sktime) (1.10.1)\n",
            "Requirement already satisfied: wrapt<2,>=1.10 in /usr/local/lib/python3.9/dist-packages (from deprecated>=1.2.13->sktime) (1.14.1)\n",
            "Requirement already satisfied: setuptools in /usr/local/lib/python3.9/dist-packages (from numba>=0.53->sktime) (67.6.1)\n",
            "Requirement already satisfied: llvmlite<0.40,>=0.39.0dev0 in /usr/local/lib/python3.9/dist-packages (from numba>=0.53->sktime) (0.39.1)\n",
            "Requirement already satisfied: pytz>=2020.1 in /usr/local/lib/python3.9/dist-packages (from pandas<2.0.0,>=1.1.0->sktime) (2022.7.1)\n",
            "Requirement already satisfied: python-dateutil>=2.8.1 in /usr/local/lib/python3.9/dist-packages (from pandas<2.0.0,>=1.1.0->sktime) (2.8.2)\n",
            "Requirement already satisfied: joblib>=1.1.1 in /usr/local/lib/python3.9/dist-packages (from scikit-learn<1.3.0,>=0.24.0->sktime) (1.2.0)\n",
            "Requirement already satisfied: threadpoolctl>=2.0.0 in /usr/local/lib/python3.9/dist-packages (from scikit-learn<1.3.0,>=0.24.0->sktime) (3.1.0)\n",
            "Requirement already satisfied: six>=1.5 in /usr/local/lib/python3.9/dist-packages (from python-dateutil>=2.8.1->pandas<2.0.0,>=1.1.0->sktime) (1.16.0)\n",
            "Installing collected packages: deprecated, sktime\n",
            "Successfully installed deprecated-1.2.13 sktime-0.17.1\n"
          ]
        }
      ],
      "source": [
        "!pip install sktime"
      ]
    },
    {
      "cell_type": "code",
      "source": [
        "import pandas as pd\n",
        "\n",
        "from sktime.classification.interval_based import TimeSeriesForestClassifier\n",
        "from sklearn.metrics import accuracy_score"
      ],
      "metadata": {
        "id": "EqtQ_eDIqrTC"
      },
      "execution_count": 2,
      "outputs": []
    },
    {
      "cell_type": "code",
      "source": [
        "from google.colab import drive\n",
        "drive.mount('/content/drive')"
      ],
      "metadata": {
        "colab": {
          "base_uri": "https://localhost:8080/"
        },
        "id": "jxuVJ606qu8q",
        "outputId": "b19c2f1f-9360-4b3f-c8f5-3c5f364d5cd2"
      },
      "execution_count": 3,
      "outputs": [
        {
          "output_type": "stream",
          "name": "stdout",
          "text": [
            "Mounted at /content/drive\n"
          ]
        }
      ]
    },
    {
      "cell_type": "code",
      "source": [
        "path = '/content/drive/MyDrive/data_science_project/'\n",
        "trainingData = pd.read_csv(path+'InputTrain.csv')\n",
        "testData = pd.read_csv(path+'InputTest.csv')\n",
        "trainingLabel = pd.read_csv(path+'StepOne_LabelTrain.csv')"
      ],
      "metadata": {
        "id": "FX812jJtq8w3"
      },
      "execution_count": 4,
      "outputs": []
    },
    {
      "cell_type": "code",
      "source": [
        "trainingLabel = trainingLabel.drop(columns=[\"House_id\"])\n",
        "trainingData = trainingData.drop(columns=[\"House_id\"])\n",
        "trainData = pd.merge(trainingLabel, trainingData, on=\"Index\")"
      ],
      "metadata": {
        "id": "ek8m3MWFsIBy"
      },
      "execution_count": 5,
      "outputs": []
    },
    {
      "cell_type": "code",
      "source": [
        "X_train, X_test, y_train, y_test = trainData.iloc[:int(len(trainData)*0.7), 6:], trainData.iloc[int(len(trainData)*0.7):, 6:],\\\n",
        "trainData.iloc[:int(len(trainData)*0.7), 1:2], trainData.iloc[int(len(trainData)*0.7):, 1:2]"
      ],
      "metadata": {
        "id": "aeYEJ0egtyFE"
      },
      "execution_count": 6,
      "outputs": []
    },
    {
      "cell_type": "code",
      "source": [
        "X_train = {'dim_0': [i for i in X_train.iloc]}\n",
        "X_train = pd.DataFrame(X_train)\n",
        "X_test = {'dim_0': [i for i in X_test.iloc]}\n",
        "X_test = pd.DataFrame(X_test)\n",
        "AP = []"
      ],
      "metadata": {
        "id": "kBRALUB2wRjF"
      },
      "execution_count": 7,
      "outputs": []
    },
    {
      "cell_type": "code",
      "source": [
        "#Washing Machine classification training\n",
        "\n",
        "classifier = TimeSeriesForestClassifier(n_estimators=100)\n",
        "classifier.fit(X_train, y_train.values.ravel())\n",
        "\n",
        "y_washing_machine_pred = classifier.predict(X_test)"
      ],
      "metadata": {
        "id": "OglTY2YHxokp"
      },
      "execution_count": 8,
      "outputs": []
    },
    {
      "cell_type": "code",
      "source": [
        "from sklearn.metrics import average_precision_score\n",
        "print(f\"Average Precision of Washing Machine classification : {average_precision_score(y_test, y_washing_machine_pred)}\")\n",
        "AP.append(average_precision_score(y_test, y_washing_machine_pred))"
      ],
      "metadata": {
        "colab": {
          "base_uri": "https://localhost:8080/"
        },
        "id": "pFeX-y2f3UUY",
        "outputId": "e58df2c4-7025-4a20-9632-fcf692a8a306"
      },
      "execution_count": 9,
      "outputs": [
        {
          "output_type": "stream",
          "name": "stdout",
          "text": [
            "Average Precision of Washing Machine classification : 0.35283464774803797\n"
          ]
        }
      ]
    },
    {
      "cell_type": "code",
      "source": [
        "y_train, y_test = trainData.iloc[:int(len(trainData)*0.7), 2:3], trainData.iloc[int(len(trainData)*0.7):, 2:3]"
      ],
      "metadata": {
        "id": "jsYtzfAD4TG4"
      },
      "execution_count": 10,
      "outputs": []
    },
    {
      "cell_type": "code",
      "source": [
        "#Dishwasher classification training\n",
        "\n",
        "classifier = TimeSeriesForestClassifier(n_estimators=100)\n",
        "classifier.fit(X_train, y_train.values.ravel())\n",
        "\n",
        "y_dishwasher_pred = classifier.predict(X_test)"
      ],
      "metadata": {
        "id": "R8JcyQHVtHAQ"
      },
      "execution_count": 11,
      "outputs": []
    },
    {
      "cell_type": "code",
      "source": [
        "from sklearn.metrics import average_precision_score\n",
        "print(f\"Average Precision of Dishwasher classification : {average_precision_score(y_test, y_dishwasher_pred)}\")\n",
        "AP.append(average_precision_score(y_test, y_dishwasher_pred))"
      ],
      "metadata": {
        "colab": {
          "base_uri": "https://localhost:8080/"
        },
        "id": "49vdFPOR4xL5",
        "outputId": "9ec63a3e-9bd0-4272-f53a-2f088200c32f"
      },
      "execution_count": 12,
      "outputs": [
        {
          "output_type": "stream",
          "name": "stdout",
          "text": [
            "Average Precision of Dishwasher classification : 0.37189789645737836\n"
          ]
        }
      ]
    },
    {
      "cell_type": "code",
      "source": [
        "y_train, y_test = trainData.iloc[:int(len(trainData)*0.7), 3:4], trainData.iloc[int(len(trainData)*0.7):, 3:4]"
      ],
      "metadata": {
        "id": "MHfpzNZUsDzp"
      },
      "execution_count": 13,
      "outputs": []
    },
    {
      "cell_type": "code",
      "source": [
        "#Tumble Dryer classification training\n",
        "\n",
        "classifier = TimeSeriesForestClassifier(n_estimators=100)\n",
        "classifier.fit(X_train, y_train.values.ravel())\n",
        "\n",
        "y_tumble_dryer_pred = classifier.predict(X_test)"
      ],
      "metadata": {
        "id": "LtQTgMvo5DT0"
      },
      "execution_count": 14,
      "outputs": []
    },
    {
      "cell_type": "code",
      "source": [
        "from sklearn.metrics import average_precision_score\n",
        "print(f\"Average Precision of Tumble Dryer : {average_precision_score(y_test, y_tumble_dryer_pred)}\")\n",
        "AP.append(average_precision_score(y_test, y_tumble_dryer_pred))"
      ],
      "metadata": {
        "colab": {
          "base_uri": "https://localhost:8080/"
        },
        "id": "A7mGUXub7y2-",
        "outputId": "b91a6f83-8ae7-4fac-e8ae-eedd10c90b24"
      },
      "execution_count": 15,
      "outputs": [
        {
          "output_type": "stream",
          "name": "stdout",
          "text": [
            "Average Precision of Tumble Dryer : 0.015350175887432043\n"
          ]
        }
      ]
    },
    {
      "cell_type": "code",
      "source": [
        "y_train, y_test = trainData.iloc[:int(len(trainData)*0.7), 4:5], trainData.iloc[int(len(trainData)*0.7):, 4:5]"
      ],
      "metadata": {
        "id": "FwAWAsmA75pm"
      },
      "execution_count": 16,
      "outputs": []
    },
    {
      "cell_type": "code",
      "source": [
        "#Microwave classification training\n",
        "\n",
        "classifier = TimeSeriesForestClassifier(n_estimators=100)\n",
        "classifier.fit(X_train, y_train.values.ravel())\n",
        "\n",
        "y_microwave_pred = classifier.predict(X_test)"
      ],
      "metadata": {
        "id": "B2hfn9uP8ADv"
      },
      "execution_count": 17,
      "outputs": []
    },
    {
      "cell_type": "code",
      "source": [
        "from sklearn.metrics import average_precision_score\n",
        "print(f\"Average Precision of Microwave : {average_precision_score(y_test, y_microwave_pred)}\")\n",
        "AP.append(average_precision_score(y_test, y_microwave_pred))"
      ],
      "metadata": {
        "colab": {
          "base_uri": "https://localhost:8080/"
        },
        "id": "fA1s0jva9Kvo",
        "outputId": "ef0dd351-095b-4576-f5b3-3a262c0257dc"
      },
      "execution_count": 18,
      "outputs": [
        {
          "output_type": "stream",
          "name": "stdout",
          "text": [
            "Average Precision of Microwave : 0.05199992724966029\n"
          ]
        }
      ]
    },
    {
      "cell_type": "code",
      "source": [
        "y_train, y_test = trainData.iloc[:int(len(trainData)*0.7), 5:6], trainData.iloc[int(len(trainData)*0.7):, 5:6]"
      ],
      "metadata": {
        "id": "f9guXah89XXm"
      },
      "execution_count": 19,
      "outputs": []
    },
    {
      "cell_type": "code",
      "source": [
        "#Kettle classification training\n",
        "\n",
        "classifier = TimeSeriesForestClassifier(n_estimators=100)\n",
        "classifier.fit(X_train, y_train.values.ravel())\n",
        "\n",
        "y_kettle_pred = classifier.predict(X_test)"
      ],
      "metadata": {
        "id": "Otyii4IT9bbI"
      },
      "execution_count": 20,
      "outputs": []
    },
    {
      "cell_type": "code",
      "source": [
        "from sklearn.metrics import average_precision_score\n",
        "print(f\"Average Precision of Microwave : {average_precision_score(y_test, y_kettle_pred)}\")\n",
        "AP.append(average_precision_score(y_test, y_kettle_pred))"
      ],
      "metadata": {
        "colab": {
          "base_uri": "https://localhost:8080/"
        },
        "id": "zI4TpQe39sUA",
        "outputId": "1257ba93-fc42-4590-a11c-8a21d67c1859"
      },
      "execution_count": 21,
      "outputs": [
        {
          "output_type": "stream",
          "name": "stdout",
          "text": [
            "Average Precision of Microwave : 0.3194017973501971\n"
          ]
        }
      ]
    },
    {
      "cell_type": "code",
      "source": [
        "from numpy import mean\n",
        "print(f\"Mean Average Precision : {mean(AP)}\")"
      ],
      "metadata": {
        "colab": {
          "base_uri": "https://localhost:8080/"
        },
        "id": "QLKn0hgp-DmA",
        "outputId": "ecd17a3a-7b80-4a71-b8e9-98fd3fb1d383"
      },
      "execution_count": 22,
      "outputs": [
        {
          "output_type": "stream",
          "name": "stdout",
          "text": [
            "Mean Average Precision : 0.22229688893854113\n"
          ]
        }
      ]
    },
    {
      "cell_type": "code",
      "source": [
        "out = pd.DataFrame({\n",
        "    'Washing Machine': y_washing_machine_pred,\n",
        "    'Dishwasher': y_dishwasher_pred,\n",
        "    'Tumble Dryer': y_tumble_dryer_pred,\n",
        "    'Microwave': y_microwave_pred,\n",
        "    'Kettle': y_kettle_pred\n",
        "})\n",
        "\n",
        "data = out.reset_index()\n",
        "data.to_csv(path+'StepAClassifier.csv', index=False)"
      ],
      "metadata": {
        "id": "lH_Caw6Ecx1Q"
      },
      "execution_count": null,
      "outputs": []
    }
  ]
}